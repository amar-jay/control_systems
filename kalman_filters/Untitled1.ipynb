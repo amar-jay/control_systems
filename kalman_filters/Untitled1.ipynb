{
 "cells": [
  {
   "cell_type": "code",
   "execution_count": 1,
   "id": "5ce494c7-b2ce-4e9a-ba20-ffd6fcb7ad71",
   "metadata": {},
   "outputs": [
    {
     "name": "stderr",
     "output_type": "stream",
     "text": [
      "\u001b[34m\u001b[1mwandb\u001b[0m: Using wandb-core as the SDK backend.  Please refer to https://wandb.me/wandb-core for more information.\n",
      "\u001b[34m\u001b[1mwandb\u001b[0m: Currently logged in as: \u001b[33mabdelmanan-abdelrahman03\u001b[0m (\u001b[33mabdelmanan-abdelrahman03-komrades\u001b[0m). Use \u001b[1m`wandb login --relogin`\u001b[0m to force relogin\n"
     ]
    },
    {
     "data": {
      "text/html": [
       "Tracking run with wandb version 0.19.1"
      ],
      "text/plain": [
       "<IPython.core.display.HTML object>"
      ]
     },
     "metadata": {},
     "output_type": "display_data"
    },
    {
     "data": {
      "text/html": [
       "Run data is saved locally in <code>/home/manan/code/control_systems/kalman_filters/wandb/run-20241217_230558-ibnp3mmg</code>"
      ],
      "text/plain": [
       "<IPython.core.display.HTML object>"
      ]
     },
     "metadata": {},
     "output_type": "display_data"
    },
    {
     "data": {
      "text/html": [
       "Syncing run <strong><a href='https://wandb.ai/abdelmanan-abdelrahman03-komrades/my-awesome-project/runs/ibnp3mmg' target=\"_blank\">hopeful-donkey-1</a></strong> to <a href='https://wandb.ai/abdelmanan-abdelrahman03-komrades/my-awesome-project' target=\"_blank\">Weights & Biases</a> (<a href='https://wandb.me/developer-guide' target=\"_blank\">docs</a>)<br>"
      ],
      "text/plain": [
       "<IPython.core.display.HTML object>"
      ]
     },
     "metadata": {},
     "output_type": "display_data"
    },
    {
     "data": {
      "text/html": [
       " View project at <a href='https://wandb.ai/abdelmanan-abdelrahman03-komrades/my-awesome-project' target=\"_blank\">https://wandb.ai/abdelmanan-abdelrahman03-komrades/my-awesome-project</a>"
      ],
      "text/plain": [
       "<IPython.core.display.HTML object>"
      ]
     },
     "metadata": {},
     "output_type": "display_data"
    },
    {
     "data": {
      "text/html": [
       " View run at <a href='https://wandb.ai/abdelmanan-abdelrahman03-komrades/my-awesome-project/runs/ibnp3mmg' target=\"_blank\">https://wandb.ai/abdelmanan-abdelrahman03-komrades/my-awesome-project/runs/ibnp3mmg</a>"
      ],
      "text/plain": [
       "<IPython.core.display.HTML object>"
      ]
     },
     "metadata": {},
     "output_type": "display_data"
    },
    {
     "data": {
      "text/html": [],
      "text/plain": [
       "<IPython.core.display.HTML object>"
      ]
     },
     "metadata": {},
     "output_type": "display_data"
    },
    {
     "data": {
      "text/html": [
       "<br>    <style><br>        .wandb-row {<br>            display: flex;<br>            flex-direction: row;<br>            flex-wrap: wrap;<br>            justify-content: flex-start;<br>            width: 100%;<br>        }<br>        .wandb-col {<br>            display: flex;<br>            flex-direction: column;<br>            flex-basis: 100%;<br>            flex: 1;<br>            padding: 10px;<br>        }<br>    </style><br><div class=\"wandb-row\"><div class=\"wandb-col\"><h3>Run history:</h3><br/><table class=\"wandb\"><tr><td>acc</td><td>▁▃▅▇▇▇██</td></tr><tr><td>loss</td><td>█▃▂▂▂▂▁▂</td></tr></table><br/></div><div class=\"wandb-col\"><h3>Run summary:</h3><br/><table class=\"wandb\"><tr><td>acc</td><td>0.84095</td></tr><tr><td>loss</td><td>0.18283</td></tr></table><br/></div></div>"
      ],
      "text/plain": [
       "<IPython.core.display.HTML object>"
      ]
     },
     "metadata": {},
     "output_type": "display_data"
    },
    {
     "data": {
      "text/html": [
       " View run <strong style=\"color:#cdcd00\">hopeful-donkey-1</strong> at: <a href='https://wandb.ai/abdelmanan-abdelrahman03-komrades/my-awesome-project/runs/ibnp3mmg' target=\"_blank\">https://wandb.ai/abdelmanan-abdelrahman03-komrades/my-awesome-project/runs/ibnp3mmg</a><br> View project at: <a href='https://wandb.ai/abdelmanan-abdelrahman03-komrades/my-awesome-project' target=\"_blank\">https://wandb.ai/abdelmanan-abdelrahman03-komrades/my-awesome-project</a><br>Synced 5 W&B file(s), 0 media file(s), 0 artifact file(s) and 0 other file(s)"
      ],
      "text/plain": [
       "<IPython.core.display.HTML object>"
      ]
     },
     "metadata": {},
     "output_type": "display_data"
    },
    {
     "data": {
      "text/html": [
       "Find logs at: <code>./wandb/run-20241217_230558-ibnp3mmg/logs</code>"
      ],
      "text/plain": [
       "<IPython.core.display.HTML object>"
      ]
     },
     "metadata": {},
     "output_type": "display_data"
    }
   ],
   "source": [
    "import wandb\n",
    "import random\n",
    "\n",
    "# start a new wandb run to track this script\n",
    "wandb.init(\n",
    "    # set the wandb project where this run will be logged\n",
    "    project=\"my-awesome-project\",\n",
    "\n",
    "    # track hyperparameters and run metadata\n",
    "    config={\n",
    "    \"learning_rate\": 0.02,\n",
    "    \"architecture\": \"CNN\",\n",
    "    \"dataset\": \"CIFAR-100\",\n",
    "    \"epochs\": 10,\n",
    "    }\n",
    ")\n",
    "\n",
    "# simulate training\n",
    "epochs = 10\n",
    "offset = random.random() / 5\n",
    "for epoch in range(2, epochs):\n",
    "    acc = 1 - 2 ** -epoch - random.random() / epoch - offset\n",
    "    loss = 2 ** -epoch + random.random() / epoch + offset\n",
    "\n",
    "    # log metrics to wandb\n",
    "    wandb.log({\"acc\": acc, \"loss\": loss})\n",
    "\n",
    "# [optional] finish the wandb run, necessary in notebooks\n",
    "wandb.finish()"
   ]
  }
 ],
 "metadata": {
  "kernelspec": {
   "display_name": "Python 3 (ipykernel)",
   "language": "python",
   "name": "python3"
  },
  "language_info": {
   "codemirror_mode": {
    "name": "ipython",
    "version": 3
   },
   "file_extension": ".py",
   "mimetype": "text/x-python",
   "name": "python",
   "nbconvert_exporter": "python",
   "pygments_lexer": "ipython3",
   "version": "3.10.12"
  },
  "widgets": {
   "application/vnd.jupyter.widget-state+json": {
    "state": {
     "00b9e0847fad485b80dff4f433b02ac9": {
      "model_module": "@jupyter-widgets/base",
      "model_module_version": "2.0.0",
      "model_name": "LayoutModel",
      "state": {}
     },
     "0576ffd65574430a80bd6a4a36374dcb": {
      "model_module": "@jupyter-widgets/controls",
      "model_module_version": "2.0.0",
      "model_name": "LabelStyleModel",
      "state": {
       "description_width": "",
       "font_family": null,
       "font_size": null,
       "font_style": null,
       "font_variant": null,
       "font_weight": null,
       "text_color": null,
       "text_decoration": null
      }
     },
     "09a2a6d23cd048938deec05b8a1b3c9b": {
      "model_module": "@jupyter-widgets/base",
      "model_module_version": "2.0.0",
      "model_name": "LayoutModel",
      "state": {}
     },
     "09e5c507a72e401789e393dc11a978b0": {
      "model_module": "@jupyter-widgets/controls",
      "model_module_version": "2.0.0",
      "model_name": "FloatProgressModel",
      "state": {
       "layout": "IPY_MODEL_e80e4cc9b38b4210bfdf2b98625a47c9",
       "max": 1,
       "style": "IPY_MODEL_2ca663dd9c9a42ab847d2e1ba1d3bcf1"
      }
     },
     "0be2e70938424acb82facf454042f6ef": {
      "model_module": "@jupyter-widgets/controls",
      "model_module_version": "2.0.0",
      "model_name": "ProgressStyleModel",
      "state": {
       "description_width": ""
      }
     },
     "163e2cbede1d436f8655ecea8e314a4d": {
      "model_module": "@jupyter-widgets/controls",
      "model_module_version": "2.0.0",
      "model_name": "ProgressStyleModel",
      "state": {
       "description_width": ""
      }
     },
     "182b6e34fefa4684846c884f03d73348": {
      "model_module": "@jupyter-widgets/controls",
      "model_module_version": "2.0.0",
      "model_name": "LabelStyleModel",
      "state": {
       "description_width": "",
       "font_family": null,
       "font_size": null,
       "font_style": null,
       "font_variant": null,
       "font_weight": null,
       "text_color": null,
       "text_decoration": null
      }
     },
     "190e40f1bd764a5d9e2f090e67436ac6": {
      "model_module": "@jupyter-widgets/controls",
      "model_module_version": "2.0.0",
      "model_name": "ProgressStyleModel",
      "state": {
       "description_width": ""
      }
     },
     "1bc16aaf33594c77854689bbc36cbda3": {
      "model_module": "@jupyter-widgets/base",
      "model_module_version": "2.0.0",
      "model_name": "LayoutModel",
      "state": {}
     },
     "2175aa38e6de42598ffc0440b41ca48e": {
      "model_module": "@jupyter-widgets/controls",
      "model_module_version": "2.0.0",
      "model_name": "FloatProgressModel",
      "state": {
       "layout": "IPY_MODEL_53bbbc13414944949005b6fd5cddec33",
       "max": 1,
       "style": "IPY_MODEL_190e40f1bd764a5d9e2f090e67436ac6"
      }
     },
     "27df7e42f83d4ff99870658a6f37b30c": {
      "model_module": "@jupyter-widgets/controls",
      "model_module_version": "2.0.0",
      "model_name": "VBoxModel",
      "state": {
       "children": [
        "IPY_MODEL_a6bfe14a27214bc787e8c19de3667778",
        "IPY_MODEL_09e5c507a72e401789e393dc11a978b0"
       ],
       "layout": "IPY_MODEL_66dd290732c046bf98d81a34d4b3a3f4"
      }
     },
     "2ba265c973cd4e898db8769ce287b19f": {
      "model_module": "@jupyter-widgets/controls",
      "model_module_version": "2.0.0",
      "model_name": "VBoxModel",
      "state": {
       "children": [
        "IPY_MODEL_db145dd56431427fae963932d98aa771",
        "IPY_MODEL_de2a95560f5a47c386c922b7943da694"
       ],
       "layout": "IPY_MODEL_dec434b64e9d48959585d3c4a764927c"
      }
     },
     "2c2b4f91e3fc4a2fa292675ce9e4ef3a": {
      "model_module": "@jupyter-widgets/controls",
      "model_module_version": "2.0.0",
      "model_name": "LabelStyleModel",
      "state": {
       "description_width": "",
       "font_family": null,
       "font_size": null,
       "font_style": null,
       "font_variant": null,
       "font_weight": null,
       "text_color": null,
       "text_decoration": null
      }
     },
     "2c770b2bec284c7db5b2edab8d61eda7": {
      "model_module": "@jupyter-widgets/base",
      "model_module_version": "2.0.0",
      "model_name": "LayoutModel",
      "state": {}
     },
     "2ca663dd9c9a42ab847d2e1ba1d3bcf1": {
      "model_module": "@jupyter-widgets/controls",
      "model_module_version": "2.0.0",
      "model_name": "ProgressStyleModel",
      "state": {
       "description_width": ""
      }
     },
     "37a815f522d348ee81cba25dba19d9b5": {
      "model_module": "@jupyter-widgets/base",
      "model_module_version": "2.0.0",
      "model_name": "LayoutModel",
      "state": {}
     },
     "404e715410344e59b53920d39bdd28a6": {
      "model_module": "@jupyter-widgets/controls",
      "model_module_version": "2.0.0",
      "model_name": "LabelStyleModel",
      "state": {
       "description_width": "",
       "font_family": null,
       "font_size": null,
       "font_style": null,
       "font_variant": null,
       "font_weight": null,
       "text_color": null,
       "text_decoration": null
      }
     },
     "523bd65251f04bdeb8c37c00cd97f7fb": {
      "model_module": "@jupyter-widgets/controls",
      "model_module_version": "2.0.0",
      "model_name": "FloatProgressModel",
      "state": {
       "layout": "IPY_MODEL_2c770b2bec284c7db5b2edab8d61eda7",
       "max": 1,
       "style": "IPY_MODEL_e6374dbd09404a3dbf16a1b141a6bf5a"
      }
     },
     "53bbbc13414944949005b6fd5cddec33": {
      "model_module": "@jupyter-widgets/base",
      "model_module_version": "2.0.0",
      "model_name": "LayoutModel",
      "state": {}
     },
     "55b4a8f11ef94ffeb4b171fb0f4d2efa": {
      "model_module": "@jupyter-widgets/controls",
      "model_module_version": "2.0.0",
      "model_name": "VBoxModel",
      "state": {
       "children": [
        "IPY_MODEL_684f4b177105451b9ab3bc794447c4a4",
        "IPY_MODEL_5757fdee2e6944d0b4578ca59fe1c321"
       ],
       "layout": "IPY_MODEL_7d8fa52eb36348778e49c81e20bc7e99"
      }
     },
     "5757fdee2e6944d0b4578ca59fe1c321": {
      "model_module": "@jupyter-widgets/controls",
      "model_module_version": "2.0.0",
      "model_name": "FloatProgressModel",
      "state": {
       "layout": "IPY_MODEL_9648d8cd323f471988bfb692555be545",
       "max": 1,
       "style": "IPY_MODEL_163e2cbede1d436f8655ecea8e314a4d",
       "value": 1
      }
     },
     "5d0109d5a27d45778a3a6b1d96f67165": {
      "model_module": "@jupyter-widgets/controls",
      "model_module_version": "2.0.0",
      "model_name": "VBoxModel",
      "state": {
       "children": [
        "IPY_MODEL_6739196f8bb9455db301abe890670294",
        "IPY_MODEL_523bd65251f04bdeb8c37c00cd97f7fb"
       ],
       "layout": "IPY_MODEL_7da42db36e6f4bf2a64f86bb4249340e"
      }
     },
     "622d2a83870c45bc983dde55034732e5": {
      "model_module": "@jupyter-widgets/controls",
      "model_module_version": "2.0.0",
      "model_name": "LabelModel",
      "state": {
       "layout": "IPY_MODEL_37a815f522d348ee81cba25dba19d9b5",
       "style": "IPY_MODEL_182b6e34fefa4684846c884f03d73348"
      }
     },
     "62a8f5ef7fa045a8b2966926cc70d9b7": {
      "model_module": "@jupyter-widgets/base",
      "model_module_version": "2.0.0",
      "model_name": "LayoutModel",
      "state": {}
     },
     "643b3e1f8dec49f9b0e1862ab0582239": {
      "model_module": "@jupyter-widgets/controls",
      "model_module_version": "2.0.0",
      "model_name": "FloatProgressModel",
      "state": {
       "layout": "IPY_MODEL_d66ef551e891445882a452ab4b12c6c9",
       "max": 1,
       "style": "IPY_MODEL_0be2e70938424acb82facf454042f6ef"
      }
     },
     "66dd290732c046bf98d81a34d4b3a3f4": {
      "model_module": "@jupyter-widgets/base",
      "model_module_version": "2.0.0",
      "model_name": "LayoutModel",
      "state": {}
     },
     "6739196f8bb9455db301abe890670294": {
      "model_module": "@jupyter-widgets/controls",
      "model_module_version": "2.0.0",
      "model_name": "LabelModel",
      "state": {
       "layout": "IPY_MODEL_ddc9fbff5d1a48869549054944825fdd",
       "style": "IPY_MODEL_0576ffd65574430a80bd6a4a36374dcb"
      }
     },
     "677073846f194c639bdecfd960818f0b": {
      "model_module": "@jupyter-widgets/base",
      "model_module_version": "2.0.0",
      "model_name": "LayoutModel",
      "state": {}
     },
     "684f4b177105451b9ab3bc794447c4a4": {
      "model_module": "@jupyter-widgets/controls",
      "model_module_version": "2.0.0",
      "model_name": "LabelModel",
      "state": {
       "layout": "IPY_MODEL_b43abb04e1c146c1861696896978c410",
       "style": "IPY_MODEL_2c2b4f91e3fc4a2fa292675ce9e4ef3a",
       "value": "Waiting for wandb.init()...\r"
      }
     },
     "7d8fa52eb36348778e49c81e20bc7e99": {
      "model_module": "@jupyter-widgets/base",
      "model_module_version": "2.0.0",
      "model_name": "LayoutModel",
      "state": {}
     },
     "7da42db36e6f4bf2a64f86bb4249340e": {
      "model_module": "@jupyter-widgets/base",
      "model_module_version": "2.0.0",
      "model_name": "LayoutModel",
      "state": {}
     },
     "937820e3eb6f47cab765532b72bbe7fb": {
      "model_module": "@jupyter-widgets/base",
      "model_module_version": "2.0.0",
      "model_name": "LayoutModel",
      "state": {}
     },
     "948a709bf60143c884b8a354e37b8a08": {
      "model_module": "@jupyter-widgets/base",
      "model_module_version": "2.0.0",
      "model_name": "LayoutModel",
      "state": {}
     },
     "959dfa0ec77743f5b79cfca029f05d21": {
      "model_module": "@jupyter-widgets/controls",
      "model_module_version": "2.0.0",
      "model_name": "VBoxModel",
      "state": {
       "children": [
        "IPY_MODEL_b633972716c24b6b99956eb7aa07702f",
        "IPY_MODEL_dc60240f37834628ade99e4a7b77cfd8"
       ],
       "layout": "IPY_MODEL_09a2a6d23cd048938deec05b8a1b3c9b"
      }
     },
     "9648d8cd323f471988bfb692555be545": {
      "model_module": "@jupyter-widgets/base",
      "model_module_version": "2.0.0",
      "model_name": "LayoutModel",
      "state": {}
     },
     "a6bfe14a27214bc787e8c19de3667778": {
      "model_module": "@jupyter-widgets/controls",
      "model_module_version": "2.0.0",
      "model_name": "LabelModel",
      "state": {
       "layout": "IPY_MODEL_00b9e0847fad485b80dff4f433b02ac9",
       "style": "IPY_MODEL_caae4360e12f4241ba6030ce51bb9245"
      }
     },
     "a84520ad47724eadbf7f5b4d169275bf": {
      "model_module": "@jupyter-widgets/controls",
      "model_module_version": "2.0.0",
      "model_name": "LabelStyleModel",
      "state": {
       "description_width": "",
       "font_family": null,
       "font_size": null,
       "font_style": null,
       "font_variant": null,
       "font_weight": null,
       "text_color": null,
       "text_decoration": null
      }
     },
     "aee7902d769a4c79a78992d8660055e3": {
      "model_module": "@jupyter-widgets/controls",
      "model_module_version": "2.0.0",
      "model_name": "VBoxModel",
      "state": {
       "children": [
        "IPY_MODEL_622d2a83870c45bc983dde55034732e5",
        "IPY_MODEL_643b3e1f8dec49f9b0e1862ab0582239"
       ],
       "layout": "IPY_MODEL_1bc16aaf33594c77854689bbc36cbda3"
      }
     },
     "af364f2d41b64150aba374e75f1f3940": {
      "model_module": "@jupyter-widgets/controls",
      "model_module_version": "2.0.0",
      "model_name": "LabelModel",
      "state": {
       "layout": "IPY_MODEL_937820e3eb6f47cab765532b72bbe7fb",
       "style": "IPY_MODEL_404e715410344e59b53920d39bdd28a6"
      }
     },
     "b43abb04e1c146c1861696896978c410": {
      "model_module": "@jupyter-widgets/base",
      "model_module_version": "2.0.0",
      "model_name": "LayoutModel",
      "state": {}
     },
     "b633972716c24b6b99956eb7aa07702f": {
      "model_module": "@jupyter-widgets/controls",
      "model_module_version": "2.0.0",
      "model_name": "LabelModel",
      "state": {
       "layout": "IPY_MODEL_948a709bf60143c884b8a354e37b8a08",
       "style": "IPY_MODEL_a84520ad47724eadbf7f5b4d169275bf"
      }
     },
     "caae4360e12f4241ba6030ce51bb9245": {
      "model_module": "@jupyter-widgets/controls",
      "model_module_version": "2.0.0",
      "model_name": "LabelStyleModel",
      "state": {
       "description_width": "",
       "font_family": null,
       "font_size": null,
       "font_style": null,
       "font_variant": null,
       "font_weight": null,
       "text_color": null,
       "text_decoration": null
      }
     },
     "d66ef551e891445882a452ab4b12c6c9": {
      "model_module": "@jupyter-widgets/base",
      "model_module_version": "2.0.0",
      "model_name": "LayoutModel",
      "state": {}
     },
     "da823e89ab974ad2ab915e1106766bf3": {
      "model_module": "@jupyter-widgets/controls",
      "model_module_version": "2.0.0",
      "model_name": "VBoxModel",
      "state": {
       "children": [
        "IPY_MODEL_af364f2d41b64150aba374e75f1f3940",
        "IPY_MODEL_2175aa38e6de42598ffc0440b41ca48e"
       ],
       "layout": "IPY_MODEL_62a8f5ef7fa045a8b2966926cc70d9b7"
      }
     },
     "db145dd56431427fae963932d98aa771": {
      "model_module": "@jupyter-widgets/controls",
      "model_module_version": "2.0.0",
      "model_name": "LabelModel",
      "state": {
       "layout": "IPY_MODEL_de9df6ef7e8c484ebbd8be42ba4cb8ef",
       "style": "IPY_MODEL_e17dbaaf20ed4d89ac015d94a30d87e5"
      }
     },
     "dc60240f37834628ade99e4a7b77cfd8": {
      "model_module": "@jupyter-widgets/controls",
      "model_module_version": "2.0.0",
      "model_name": "FloatProgressModel",
      "state": {
       "layout": "IPY_MODEL_efce6822f65743158202b8f7d47bf7ae",
       "max": 1,
       "style": "IPY_MODEL_f3d2f6dc4d4d46dcae0a3700be7bc4b8"
      }
     },
     "ddc9fbff5d1a48869549054944825fdd": {
      "model_module": "@jupyter-widgets/base",
      "model_module_version": "2.0.0",
      "model_name": "LayoutModel",
      "state": {}
     },
     "de2a95560f5a47c386c922b7943da694": {
      "model_module": "@jupyter-widgets/controls",
      "model_module_version": "2.0.0",
      "model_name": "FloatProgressModel",
      "state": {
       "layout": "IPY_MODEL_677073846f194c639bdecfd960818f0b",
       "max": 1,
       "style": "IPY_MODEL_ff7271164c634f1ba0d07b112dbcf433"
      }
     },
     "de9df6ef7e8c484ebbd8be42ba4cb8ef": {
      "model_module": "@jupyter-widgets/base",
      "model_module_version": "2.0.0",
      "model_name": "LayoutModel",
      "state": {}
     },
     "dec434b64e9d48959585d3c4a764927c": {
      "model_module": "@jupyter-widgets/base",
      "model_module_version": "2.0.0",
      "model_name": "LayoutModel",
      "state": {}
     },
     "e17dbaaf20ed4d89ac015d94a30d87e5": {
      "model_module": "@jupyter-widgets/controls",
      "model_module_version": "2.0.0",
      "model_name": "LabelStyleModel",
      "state": {
       "description_width": "",
       "font_family": null,
       "font_size": null,
       "font_style": null,
       "font_variant": null,
       "font_weight": null,
       "text_color": null,
       "text_decoration": null
      }
     },
     "e6374dbd09404a3dbf16a1b141a6bf5a": {
      "model_module": "@jupyter-widgets/controls",
      "model_module_version": "2.0.0",
      "model_name": "ProgressStyleModel",
      "state": {
       "description_width": ""
      }
     },
     "e80e4cc9b38b4210bfdf2b98625a47c9": {
      "model_module": "@jupyter-widgets/base",
      "model_module_version": "2.0.0",
      "model_name": "LayoutModel",
      "state": {}
     },
     "efce6822f65743158202b8f7d47bf7ae": {
      "model_module": "@jupyter-widgets/base",
      "model_module_version": "2.0.0",
      "model_name": "LayoutModel",
      "state": {}
     },
     "f3d2f6dc4d4d46dcae0a3700be7bc4b8": {
      "model_module": "@jupyter-widgets/controls",
      "model_module_version": "2.0.0",
      "model_name": "ProgressStyleModel",
      "state": {
       "description_width": ""
      }
     },
     "ff7271164c634f1ba0d07b112dbcf433": {
      "model_module": "@jupyter-widgets/controls",
      "model_module_version": "2.0.0",
      "model_name": "ProgressStyleModel",
      "state": {
       "description_width": ""
      }
     }
    },
    "version_major": 2,
    "version_minor": 0
   }
  }
 },
 "nbformat": 4,
 "nbformat_minor": 5
}
